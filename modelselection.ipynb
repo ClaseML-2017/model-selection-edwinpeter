{
 "cells": [
  {
   "cell_type": "code",
   "execution_count": 1,
   "metadata": {
    "collapsed": true,
    "deletable": true,
    "editable": true
   },
   "outputs": [],
   "source": [
    "import pandas as pd\n",
    "import numpy as np\n",
    "import csv\n",
    "import random as rnd\n",
    "from sklearn.cross_validation import train_test_split\n",
    "import matplotlib.pyplot as plt\n",
    "from sklearn import preprocessing\n",
    "%matplotlib inline"
   ]
  },
  {
   "cell_type": "markdown",
   "metadata": {
    "deletable": true,
    "editable": true
   },
   "source": [
    "## Read file into dataframe"
   ]
  },
  {
   "cell_type": "code",
   "execution_count": 2,
   "metadata": {
    "collapsed": true,
    "deletable": true,
    "editable": true
   },
   "outputs": [],
   "source": [
    "df = pd.read_csv(\"regLinPoli2.csv\") ##insert your own path"
   ]
  },
  {
   "cell_type": "code",
   "execution_count": 3,
   "metadata": {
    "collapsed": false
   },
   "outputs": [
    {
     "data": {
      "text/html": [
       "<div>\n",
       "<table border=\"1\" class=\"dataframe\">\n",
       "  <thead>\n",
       "    <tr style=\"text-align: right;\">\n",
       "      <th></th>\n",
       "      <th>X1</th>\n",
       "      <th>X2</th>\n",
       "      <th>X3</th>\n",
       "      <th>X4</th>\n",
       "      <th>X5</th>\n",
       "      <th>X6</th>\n",
       "      <th>X7</th>\n",
       "      <th>X8</th>\n",
       "      <th>X9</th>\n",
       "      <th>X10</th>\n",
       "      <th>...</th>\n",
       "      <th>X30</th>\n",
       "      <th>X31</th>\n",
       "      <th>X32</th>\n",
       "      <th>X33</th>\n",
       "      <th>X34</th>\n",
       "      <th>X35</th>\n",
       "      <th>X36</th>\n",
       "      <th>X37</th>\n",
       "      <th>X38</th>\n",
       "      <th>y</th>\n",
       "    </tr>\n",
       "  </thead>\n",
       "  <tbody>\n",
       "    <tr>\n",
       "      <th>0</th>\n",
       "      <td>153.782162</td>\n",
       "      <td>23648.953370</td>\n",
       "      <td>2.186906</td>\n",
       "      <td>0.155247</td>\n",
       "      <td>16</td>\n",
       "      <td>-153.782162</td>\n",
       "      <td>-23648.95337</td>\n",
       "      <td>-2.186906</td>\n",
       "      <td>-0.155247</td>\n",
       "      <td>-909.534012</td>\n",
       "      <td>...</td>\n",
       "      <td>272</td>\n",
       "      <td>-1856</td>\n",
       "      <td>1390</td>\n",
       "      <td>-4293</td>\n",
       "      <td>4171</td>\n",
       "      <td>-3493</td>\n",
       "      <td>-290</td>\n",
       "      <td>-1017</td>\n",
       "      <td>9</td>\n",
       "      <td>2.033960e+15</td>\n",
       "    </tr>\n",
       "    <tr>\n",
       "      <th>1</th>\n",
       "      <td>645.991251</td>\n",
       "      <td>417304.697100</td>\n",
       "      <td>2.810227</td>\n",
       "      <td>-0.923396</td>\n",
       "      <td>35</td>\n",
       "      <td>-153.782162</td>\n",
       "      <td>-23648.95337</td>\n",
       "      <td>-2.810227</td>\n",
       "      <td>0.923396</td>\n",
       "      <td>343.752475</td>\n",
       "      <td>...</td>\n",
       "      <td>-265</td>\n",
       "      <td>-3587</td>\n",
       "      <td>-2479</td>\n",
       "      <td>-1284</td>\n",
       "      <td>-2127</td>\n",
       "      <td>2369</td>\n",
       "      <td>2657</td>\n",
       "      <td>-1481</td>\n",
       "      <td>-150</td>\n",
       "      <td>4.694470e+19</td>\n",
       "    </tr>\n",
       "    <tr>\n",
       "      <th>2</th>\n",
       "      <td>-412.060457</td>\n",
       "      <td>169793.820200</td>\n",
       "      <td>2.614961</td>\n",
       "      <td>0.489764</td>\n",
       "      <td>-25</td>\n",
       "      <td>-153.782162</td>\n",
       "      <td>-23648.95337</td>\n",
       "      <td>-2.614961</td>\n",
       "      <td>-0.489764</td>\n",
       "      <td>-776.331121</td>\n",
       "      <td>...</td>\n",
       "      <td>9</td>\n",
       "      <td>4104</td>\n",
       "      <td>-4634</td>\n",
       "      <td>-1637</td>\n",
       "      <td>-4228</td>\n",
       "      <td>527</td>\n",
       "      <td>-1773</td>\n",
       "      <td>-1676</td>\n",
       "      <td>67</td>\n",
       "      <td>-2.017100e+18</td>\n",
       "    </tr>\n",
       "    <tr>\n",
       "      <th>3</th>\n",
       "      <td>35.884351</td>\n",
       "      <td>1287.686648</td>\n",
       "      <td>1.554905</td>\n",
       "      <td>-0.970388</td>\n",
       "      <td>-75</td>\n",
       "      <td>-153.782162</td>\n",
       "      <td>-23648.95337</td>\n",
       "      <td>-1.554905</td>\n",
       "      <td>0.970388</td>\n",
       "      <td>696.736200</td>\n",
       "      <td>...</td>\n",
       "      <td>-215</td>\n",
       "      <td>749</td>\n",
       "      <td>-3645</td>\n",
       "      <td>-3202</td>\n",
       "      <td>-1173</td>\n",
       "      <td>-3248</td>\n",
       "      <td>1888</td>\n",
       "      <td>1295</td>\n",
       "      <td>-49</td>\n",
       "      <td>7.629161e+10</td>\n",
       "    </tr>\n",
       "    <tr>\n",
       "      <th>4</th>\n",
       "      <td>-85.073496</td>\n",
       "      <td>7237.499779</td>\n",
       "      <td>1.929794</td>\n",
       "      <td>0.247883</td>\n",
       "      <td>44</td>\n",
       "      <td>-153.782162</td>\n",
       "      <td>-23648.95337</td>\n",
       "      <td>-1.929794</td>\n",
       "      <td>-0.247883</td>\n",
       "      <td>-527.805076</td>\n",
       "      <td>...</td>\n",
       "      <td>-360</td>\n",
       "      <td>2150</td>\n",
       "      <td>507</td>\n",
       "      <td>-1972</td>\n",
       "      <td>-7497</td>\n",
       "      <td>-2427</td>\n",
       "      <td>4368</td>\n",
       "      <td>670</td>\n",
       "      <td>43</td>\n",
       "      <td>-3.225260e+13</td>\n",
       "    </tr>\n",
       "  </tbody>\n",
       "</table>\n",
       "<p>5 rows × 39 columns</p>\n",
       "</div>"
      ],
      "text/plain": [
       "           X1             X2        X3        X4  X5          X6           X7  \\\n",
       "0  153.782162   23648.953370  2.186906  0.155247  16 -153.782162 -23648.95337   \n",
       "1  645.991251  417304.697100  2.810227 -0.923396  35 -153.782162 -23648.95337   \n",
       "2 -412.060457  169793.820200  2.614961  0.489764 -25 -153.782162 -23648.95337   \n",
       "3   35.884351    1287.686648  1.554905 -0.970388 -75 -153.782162 -23648.95337   \n",
       "4  -85.073496    7237.499779  1.929794  0.247883  44 -153.782162 -23648.95337   \n",
       "\n",
       "         X8        X9         X10      ...       X30   X31   X32   X33   X34  \\\n",
       "0 -2.186906 -0.155247 -909.534012      ...       272 -1856  1390 -4293  4171   \n",
       "1 -2.810227  0.923396  343.752475      ...      -265 -3587 -2479 -1284 -2127   \n",
       "2 -2.614961 -0.489764 -776.331121      ...         9  4104 -4634 -1637 -4228   \n",
       "3 -1.554905  0.970388  696.736200      ...      -215   749 -3645 -3202 -1173   \n",
       "4 -1.929794 -0.247883 -527.805076      ...      -360  2150   507 -1972 -7497   \n",
       "\n",
       "    X35   X36   X37  X38             y  \n",
       "0 -3493  -290 -1017    9  2.033960e+15  \n",
       "1  2369  2657 -1481 -150  4.694470e+19  \n",
       "2   527 -1773 -1676   67 -2.017100e+18  \n",
       "3 -3248  1888  1295  -49  7.629161e+10  \n",
       "4 -2427  4368   670   43 -3.225260e+13  \n",
       "\n",
       "[5 rows x 39 columns]"
      ]
     },
     "execution_count": 3,
     "metadata": {},
     "output_type": "execute_result"
    }
   ],
   "source": [
    "df.head()"
   ]
  },
  {
   "cell_type": "markdown",
   "metadata": {
    "deletable": true,
    "editable": true
   },
   "source": [
    "## Divide in train and test"
   ]
  },
  {
   "cell_type": "code",
   "execution_count": 4,
   "metadata": {
    "collapsed": false,
    "deletable": true,
    "editable": true
   },
   "outputs": [],
   "source": [
    "X_train, X_test, Y_train, Y_test = train_test_split(df[df.columns[0:-1]],df[[df.columns[-1]]], train_size=0.75)\n",
    "#print X_train.columns.values"
   ]
  },
  {
   "cell_type": "markdown",
   "metadata": {
    "deletable": true,
    "editable": true
   },
   "source": [
    "\n",
    "### I recommend that after manipulating data using pandas and before modelling to convert dataframes into arrays. This may avoid some headaches"
   ]
  },
  {
   "cell_type": "code",
   "execution_count": 5,
   "metadata": {
    "collapsed": false,
    "deletable": true,
    "editable": true
   },
   "outputs": [],
   "source": [
    "X_train, X_test, Y_train, Y_test = train_test_split(df[df.columns[0:-1]],df[[df.columns[-1]]], train_size=0.75)\n",
    "#print X_train.columns.values\n",
    "\n",
    "X_train=np.asarray(X_train)\n",
    "X_test=np.asarray(X_test)\n",
    "Y_train=np.asarray(Y_train)\n",
    "Y_test=np.asarray(Y_test)"
   ]
  },
  {
   "cell_type": "markdown",
   "metadata": {
    "deletable": true,
    "editable": true
   },
   "source": [
    "## Procedure for data standardizing"
   ]
  },
  {
   "cell_type": "code",
   "execution_count": 6,
   "metadata": {
    "collapsed": true,
    "deletable": true,
    "editable": true
   },
   "outputs": [],
   "source": [
    "# This procedure is useful for classroom examples. For a real implementation you have to have a separete method \n",
    "# for transforming the production data so you can transform it as you get it with the fitted scaler\n",
    "## The procedure returns a standardized copy of the input data\n",
    "def normalize(X_train,X_test,Y_train,Y_test,do=True):\n",
    "\n",
    "    scale_X=preprocessing.StandardScaler()\n",
    "    scale_y=preprocessing.StandardScaler()\n",
    "    \n",
    "    train_X=np.copy(X_train)\n",
    "    train_y=np.copy(Y_train)\n",
    "    test_X=np.copy(X_test)\n",
    "    test_y=np.copy(Y_test)\n",
    "    if do:\n",
    "        scale_X.fit(train_X)\n",
    "        scale_y.fit(train_y)\n",
    "        train_X=scale_X.transform(train_X)\n",
    "        train_y=scale_y.transform(train_y)\n",
    "        test_X=scale_X.transform(test_X)\n",
    "        test_y=scale_y.transform(test_y)\n",
    "    return train_X,test_X, train_y, test_y"
   ]
  },
  {
   "cell_type": "markdown",
   "metadata": {
    "deletable": true,
    "editable": true
   },
   "source": [
    "## Incremental regularized regression procedures"
   ]
  },
  {
   "cell_type": "code",
   "execution_count": 7,
   "metadata": {
    "collapsed": true,
    "deletable": true,
    "editable": true
   },
   "outputs": [],
   "source": [
    "## Transfer function\n",
    "def salida(w,X):\n",
    "    return X.dot(w[1:]) +w[0]\n"
   ]
  },
  {
   "cell_type": "code",
   "execution_count": 8,
   "metadata": {
    "collapsed": true,
    "deletable": true,
    "editable": true
   },
   "outputs": [],
   "source": [
    "## Training function\n",
    "def entrena(X,y,w,la=0.0,eta=0.01):\n",
    "    \n",
    "    for i in range(len(X)):\n",
    "        error=y[i]-salida(w,X[i])\n",
    "        w[0]=w[0]+eta*(error)\n",
    "        w[1:]=w[1:]+eta*(error*X[i])-la*w[1:]\n",
    "    return w\n"
   ]
  },
  {
   "cell_type": "markdown",
   "metadata": {
    "deletable": true,
    "editable": true
   },
   "source": [
    "## Error function"
   ]
  },
  {
   "cell_type": "code",
   "execution_count": 9,
   "metadata": {
    "collapsed": true,
    "deletable": true,
    "editable": true
   },
   "outputs": [],
   "source": [
    "def calcError(X,y,w,w0):\n",
    "    return np.mean((X.dot(w)+w0-y)**2)"
   ]
  },
  {
   "cell_type": "markdown",
   "metadata": {
    "deletable": true,
    "editable": true
   },
   "source": [
    "## Use"
   ]
  },
  {
   "cell_type": "code",
   "execution_count": 10,
   "metadata": {
    "collapsed": true,
    "deletable": true,
    "editable": true
   },
   "outputs": [],
   "source": [
    "train_X,test_X,train_y,test_y=normalize(X_train,X_test,Y_train,Y_test)"
   ]
  },
  {
   "cell_type": "code",
   "execution_count": 11,
   "metadata": {
    "collapsed": false,
    "deletable": true,
    "editable": true
   },
   "outputs": [],
   "source": [
    "iterations = 100\n",
    "\n",
    "w=np.asarray([rnd.random() for i in range(1+len(train_X[0]))])\n",
    "for i in range(iterations):\n",
    "    w=entrena(train_X,train_y,w,la=0.00)"
   ]
  },
  {
   "cell_type": "code",
   "execution_count": 12,
   "metadata": {
    "collapsed": false,
    "deletable": true,
    "editable": true
   },
   "outputs": [
    {
     "name": "stdout",
     "output_type": "stream",
     "text": [
      "0.505198963007\n",
      "0.705763246755\n"
     ]
    }
   ],
   "source": [
    "## flatten here to convert y from a matrix to a vector. Only 1 response variable\n",
    "print calcError(train_X,train_y.flatten(),w[1:],w[0])\n",
    "print calcError(test_X,test_y.flatten(),w[1:],w[0])"
   ]
  },
  {
   "cell_type": "code",
   "execution_count": 13,
   "metadata": {
    "collapsed": false
   },
   "outputs": [],
   "source": [
    "def kFold(k, lmbda, train):\n",
    "    #Split into k folds:\n",
    "    split = np.array_split(train, k)\n",
    "    \n",
    "    validationError = 0\n",
    "    learningError = 0\n",
    "    for i in range(k):\n",
    "        #Set validation set\n",
    "        validation = split[i]\n",
    "        #Set learning set\n",
    "        learning = np.concatenate([j for index,j in enumerate(split) if i<>index])\n",
    "\n",
    "        #Assign X and Y\n",
    "        learning_X = learning[:,0:-1]\n",
    "        learning_Y = learning[:,-1]\n",
    "        validation_X = validation[:,0:-1]\n",
    "        validation_Y = validation[:,-1]\n",
    "\n",
    "        #Normalize the data    \n",
    "        learning_X = np.asarray(learning_X)\n",
    "        learning_Y = np.asarray(learning_Y).reshape(-1, 1)\n",
    "        validation_X = np.asarray(validation_X)\n",
    "        validation_Y = np.asarray(validation_Y).reshape(-1, 1)\n",
    "\n",
    "        learning_X, validation_X,learning_Y, validation_Y = normalize(learning_X, validation_X,learning_Y, validation_Y)\n",
    "\n",
    "        w = np.asarray([rnd.random() for i in range(1+len(learning_X[0]))])\n",
    "        iterations = 100\n",
    "\n",
    "        for i in range(iterations):\n",
    "            w = entrena(learning_X,learning_Y,w,la=lmbda)\n",
    "\n",
    "        validationError += calcError(validation_X,validation_Y.flatten(),w[1:],w[0])\n",
    "        learningError += calcError(learning_X,learning_Y.flatten(),w[1:],w[0])\n",
    "\n",
    "\n",
    "    averageValidationError = validationError/k\n",
    "    averageLearningError = learningError/k\n",
    "    return averageValidationError,averageLearningError,w"
   ]
  },
  {
   "cell_type": "code",
   "execution_count": 32,
   "metadata": {
    "collapsed": false
   },
   "outputs": [
    {
     "name": "stdout",
     "output_type": "stream",
     "text": [
      "For lambda = 0.0, Average Validation Error: 0.6495954381, Test Error : 0.578003297784\n",
      "For lambda = 0.0005, Average Validation Error: 0.638046880851, Test Error : 0.555608491309\n",
      "For lambda = 0.001, Average Validation Error: 0.62969842576, Test Error : 0.562251459309\n",
      "For lambda = 0.002, Average Validation Error: 0.619855167175, Test Error : 0.57891180628\n",
      "For lambda = 0.005, Average Validation Error: 0.619251390198, Test Error : 0.637075124788\n",
      "For lambda = 0.01, Average Validation Error: 0.649221219514, Test Error : 0.723448699232\n",
      "For lambda = 0.02, Average Validation Error: 0.715695178912, Test Error : 0.835809885767\n"
     ]
    }
   ],
   "source": [
    "train, test = train_test_split(df,test_size=0.25)\n",
    "\n",
    "train = np.asarray(train)\n",
    "test = np.asarray(test)\n",
    "\n",
    "train_x = train[:,0:-1]\n",
    "train_y = train[:,-1]\n",
    "test_x = test[:,0:-1]\n",
    "test_y = test[:,-1]\n",
    "\n",
    "train_x = np.asarray(train_x)\n",
    "train_y = np.asarray(train_y).reshape(-1, 1)\n",
    "test_x = np.asarray(test_x)\n",
    "test_y = np.asarray(test_y).reshape(-1, 1)\n",
    "\n",
    "train_x, test_x,train_y, test_y = normalize(train_x, test_x,train_y, test_y)\n",
    "\n",
    "\n",
    "#lambdas = np.linspace(0, 1.5, num=20)\n",
    "lambdas = [0.0, 0.0005, 0.001, 0.002, 0.005, 0.01, 0.02]\n",
    "\n",
    "ave = []\n",
    "ale = []\n",
    "\n",
    "for i in lambdas:\n",
    "    averageValidationError,averageLearningError,w = kFold(5, i, train)\n",
    "    ave.append(averageValidationError)\n",
    "    ale.append(averageLearningError)\n",
    "    testError = calcError(test_x,test_y.flatten(),w[1:],w[0])\n",
    "    print \"For lambda = {}, Average Validation Error: {}, Test Error : {}\".format(i,averageValidationError, testError)\n",
    "\n",
    "\n"
   ]
  },
  {
   "cell_type": "code",
   "execution_count": 30,
   "metadata": {
    "collapsed": false
   },
   "outputs": [
    {
     "data": {
      "image/png": "[encoded data removed]",
      "text/plain": [
       "<matplotlib.figure.Figure at 0x118c57710>"
      ]
     },
     "metadata": {},
     "output_type": "display_data"
    }
   ],
   "source": [
    "plt.scatter(lambdas, ale)\n",
    "plt.xlabel('Lambdas')\n",
    "plt.ylabel('Test Error')\n",
    "plt.show()"
   ]
  },
  {
   "cell_type": "code",
   "execution_count": null,
   "metadata": {
    "collapsed": true
   },
   "outputs": [],
   "source": []
  }
 ],
 "metadata": {
  "anaconda-cloud": {},
  "kernelspec": {
   "display_name": "Python [conda root]",
   "language": "python",
   "name": "conda-root-py"
  },
  "language_info": {
   "codemirror_mode": {
    "name": "ipython",
    "version": 2
   },
   "file_extension": ".py",
   "mimetype": "text/x-python",
   "name": "python",
   "nbconvert_exporter": "python",
   "pygments_lexer": "ipython2",
   "version": "2.7.8"
  }
 },
 "nbformat": 4,
 "nbformat_minor": 2
}
